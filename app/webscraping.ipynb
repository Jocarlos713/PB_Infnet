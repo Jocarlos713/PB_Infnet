{
 "cells": [
  {
   "cell_type": "code",
   "execution_count": 2,
   "metadata": {},
   "outputs": [],
   "source": [
    "import requests\n",
    "from bs4 import BeautifulSoup as bs\n"
   ]
  },
  {
   "cell_type": "code",
   "execution_count": 58,
   "metadata": {},
   "outputs": [],
   "source": [
    "import requests\n",
    "from bs4 import BeautifulSoup as bs\n",
    "\n",
    "HEADERS = {\n",
    "    'User-Agent': \"Mozilla/5.0 (Windows NT 10.0; Win64; x64) AppleWebKit/537.36 (KHTML, like Gecko) Chrome/129.0.0.0 Safari/537.36 Edg/129.0.0.0\"\n",
    "}\n",
    "\n",
    "url = 'https://tecnoblog.net/?s=clima+brasil'\n",
    "\n",
    "response = requests.get(url, headers=HEADERS)\n",
    "data = bs(response.text, 'lxml')\n",
    "links = data.select('div.postsHere > div.posts a[href]')\n",
    "links_lista = []\n",
    "for link in links:\n",
    "    href = link['href']  # Extrai o valor do atributo href\n",
    "    links_lista.append(href)\n",
    "\n",
    "with open('data/noticias.txt', 'w') as arquivo:\n",
    "    for link in links_lista:\n",
    "        arquivo.write(link+ '\\n')"
   ]
  }
 ],
 "metadata": {
  "kernelspec": {
   "display_name": "Python 3",
   "language": "python",
   "name": "python3"
  },
  "language_info": {
   "codemirror_mode": {
    "name": "ipython",
    "version": 3
   },
   "file_extension": ".py",
   "mimetype": "text/x-python",
   "name": "python",
   "nbconvert_exporter": "python",
   "pygments_lexer": "ipython3",
   "version": "3.12.2"
  }
 },
 "nbformat": 4,
 "nbformat_minor": 2
}
